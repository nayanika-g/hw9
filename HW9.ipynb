{
 "cells": [
  {
   "cell_type": "markdown",
   "metadata": {},
   "source": [
    "# CS530 Homework 9"
   ]
  },
  {
   "cell_type": "code",
   "execution_count": 16,
   "metadata": {},
   "outputs": [
    {
     "name": "stderr",
     "output_type": "stream",
     "text": [
      "/Users/gracegupta/anaconda3/lib/python3.6/site-packages/sklearn/ensemble/weight_boosting.py:29: DeprecationWarning: numpy.core.umath_tests is an internal NumPy module and should not be imported. It will be removed in a future NumPy release.\n",
      "  from numpy.core.umath_tests import inner1d\n"
     ]
    }
   ],
   "source": [
    "import numpy as np\n",
    "import matplotlib.pyplot as plt\n",
    "from matplotlib.colors import ListedColormap\n",
    "from sklearn.model_selection import train_test_split\n",
    "from sklearn.preprocessing import StandardScaler\n",
    "from sklearn.neighbors import KNeighborsClassifier\n",
    "from sklearn.svm import SVC\n",
    "from sklearn.gaussian_process import GaussianProcessClassifier\n",
    "from sklearn.gaussian_process.kernels import RBF\n",
    "from sklearn.tree import DecisionTreeClassifier\n",
    "from sklearn.ensemble import RandomForestClassifier, AdaBoostClassifier\n",
    "from sklearn.naive_bayes import GaussianNB\n",
    "from sklearn.discriminant_analysis import LinearDiscriminantAnalysis"
   ]
  },
  {
   "cell_type": "markdown",
   "metadata": {},
   "source": [
    "#### Question 1 (5 points). \n",
    "\n",
    "a. Use the classifiers listed in the following block to run classifications on the three datasets provided along with the homework ('dataset1.csv', 'dataset2.csv', 'dataset3.csv'). Use train-test-split and compute the AUC on the test sets."
   ]
  },
  {
   "cell_type": "code",
   "execution_count": 21,
   "metadata": {},
   "outputs": [],
   "source": [
    "clfs = {\n",
    "    \"Nearest Neighbors\": KNeighborsClassifier(3),\n",
    "    \"Linear SVM\": SVC(kernel=\"linear\", C=0.025),\n",
    "    \"RBF SVM\": SVC(gamma=2, C=1),\n",
    "    \"Decision Tree\": DecisionTreeClassifier(max_depth=5),\n",
    "    \"Random Forest\": RandomForestClassifier(max_depth=5, n_estimators=10, max_features=1),\n",
    "    \"AdaBoost\": AdaBoostClassifier(),\n",
    "    \"Naive Bayes\": GaussianNB(),\n",
    "    \"LDA\": LinearDiscriminantAnalysis()}"
   ]
  },
  {
   "cell_type": "code",
   "execution_count": 25,
   "metadata": {},
   "outputs": [
    {
     "name": "stdout",
     "output_type": "stream",
     "text": [
      "Nearest Neighbors\n",
      "Linear SVM\n",
      "RBF SVM\n",
      "Decision Tree\n",
      "Random Forest\n",
      "AdaBoost\n",
      "Naive Bayes\n",
      "LDA\n"
     ]
    }
   ],
   "source": [
    "for clf in clfs:\n",
    "    print(clf)"
   ]
  },
  {
   "cell_type": "code",
   "execution_count": 1,
   "metadata": {},
   "outputs": [],
   "source": [
    "# Your code goes here\n",
    "import pandas as pd\n",
    "from sklearn.model_selection import train_test_split\n",
    "\n",
    "dataset1 = pd.read_csv(\"../grace_gupta_HW9/dataset1.csv\")\n",
    "dataset2 = pd.read_csv(\"../grace_gupta_HW9/dataset2.csv\")\n",
    "dataset3 = pd.read_csv(\"../grace_gupta_HW9/dataset3.csv\")"
   ]
  },
  {
   "cell_type": "code",
   "execution_count": 9,
   "metadata": {},
   "outputs": [],
   "source": [
    "X1 = dataset1.loc[:,'X1':'X5']\n",
    "y1 = dataset1['y']\n",
    "X2 = dataset1.loc[:,'X1':'X5']\n",
    "y2 = dataset1['y']\n",
    "X3 = dataset1.loc[:,'X1':'X5']\n",
    "y3 = dataset1['y']"
   ]
  },
  {
   "cell_type": "code",
   "execution_count": 11,
   "metadata": {},
   "outputs": [],
   "source": [
    "X_train1, X_test1, y_train1, y_test1 = train_test_split(X1,y1,test_size=0.3, random_state=42)\n",
    "X_train2, X_test2, y_train2, y_test2 = train_test_split(X2,y2,test_size=0.3, random_state=42)\n",
    "X_train3, X_test3, y_train3, y_test3 = train_test_split(X3,y3,test_size=0.3, random_state=42)"
   ]
  },
  {
   "cell_type": "code",
   "execution_count": 13,
   "metadata": {},
   "outputs": [],
   "source": [
    "data1 = [X_train1, X_test1, y_train1, y_test1]\n",
    "data2 = [X_train2, X_test2, y_train2, y_test2]\n",
    "data3 = [X_train3, X_test3, y_train3, y_test3]\n",
    "data = [data1, data2, data3]"
   ]
  },
  {
   "cell_type": "code",
   "execution_count": 26,
   "metadata": {},
   "outputs": [],
   "source": [
    "from sklearn import metrics\n",
    "\n",
    "aucs = []\n",
    "for dataset in data:\n",
    "    aucs_per_dataset = []\n",
    "    X_train = dataset[0]\n",
    "    X_test = dataset[1]\n",
    "    y_train = dataset[2]\n",
    "    y_test = dataset[3]\n",
    "    for name in clfs:\n",
    "        clf = clfs.get(name)\n",
    "        clf.fit(X_train, y_train)\n",
    "        y_pred = clf.predict(X_test)\n",
    "        fpr, tpr, threshold = metrics.roc_curve(y_test, y_pred)\n",
    "        aucs_per_dataset.append(metrics.auc(fpr, tpr))\n",
    "    aucs.append(aucs_per_dataset)"
   ]
  },
  {
   "cell_type": "code",
   "execution_count": 31,
   "metadata": {},
   "outputs": [
    {
     "data": {
      "text/plain": [
       "[[0.825,\n",
       "  0.5,\n",
       "  0.825,\n",
       "  0.6749999999999999,\n",
       "  0.7500000000000001,\n",
       "  0.8,\n",
       "  0.625,\n",
       "  0.475],\n",
       " [0.825, 0.5, 0.825, 0.625, 0.65, 0.8, 0.625, 0.475],\n",
       " [0.825, 0.5, 0.825, 0.625, 0.6500000000000001, 0.8, 0.625, 0.475]]"
      ]
     },
     "execution_count": 31,
     "metadata": {},
     "output_type": "execute_result"
    }
   ],
   "source": [
    "aucs"
   ]
  },
  {
   "cell_type": "markdown",
   "metadata": {},
   "source": [
    "b. Use a bar plot to visualize the results you get from 1a. The x-axis should be the three datasets. The y-axis should be the AUC. The color for the bars should be the different algorithms."
   ]
  },
  {
   "cell_type": "code",
   "execution_count": 35,
   "metadata": {},
   "outputs": [
    {
     "data": {
      "image/png": "[encoded data removed]",
      "text/plain": [
       "<Figure size 432x288 with 1 Axes>"
      ]
     },
     "metadata": {},
     "output_type": "display_data"
    }
   ],
   "source": [
    "# Your code goes here\n",
    "%matplotlib inline\n",
    "import matplotlib.pyplot as plt\n",
    "\n",
    "labels = ['dataset1', 'dataset2', 'dataset3']\n",
    "\n",
    "K_nearest = [aucs[0][0], aucs[1][0], aucs[2][0]]\n",
    "Linear_SVM = [aucs[0][1], aucs[1][1], aucs[2][1]]\n",
    "RBF_SVM = [aucs[0][2], aucs[1][2], aucs[2][2]]\n",
    "Decision_Tree = [aucs[0][3], aucs[1][3], aucs[2][3]]\n",
    "Random_Forest = [aucs[0][4], aucs[1][4], aucs[2][4]]\n",
    "AdaBoost = [aucs[0][5], aucs[1][5], aucs[2][5]]\n",
    "Naive_Bayes = [aucs[0][6], aucs[1][6], aucs[2][6]]\n",
    "LDA = [aucs[0][7], aucs[1][7], aucs[2][7]]\n",
    "\n",
    "x = np.arange(len(labels))\n",
    "width = 0.35\n",
    "\n",
    "fig, ax = plt.subplots()\n",
    "\n",
    "rects1 = ax.bar(x - width/2, K_nearest, width, label='Nearest Neighbors')\n",
    "rects2 = ax.bar(x + width/2, Linear_SVM, width, label='Linear SVM')\n",
    "rects3 = ax.bar(x + width/2, RBF_SVM, width, label='RBF SVM')\n",
    "rects4 = ax.bar(x + width/2, Decision_Tree, width, label='Decision Tree')\n",
    "rects5 = ax.bar(x + width/2, Random_Forest, width, label='Random Forest')\n",
    "rects6 = ax.bar(x + width/2, Random_Forest, width, label='Random Forest')\n",
    "rects7 = ax.bar(x + width/2, AdaBoost, width, label='AdaBoost')\n",
    "rects8 = ax.bar(x + width/2, Naive_Bayes, width, label='Naive Bayes')\n",
    "rects9 = ax.bar(x + width/2, LDA, width, label='LDA')\n",
    "\n",
    "ax.set_ylabel('AUC')\n",
    "ax.set_title('AUC by dataset and classification method')\n",
    "ax.set_xticks(x)\n",
    "ax.set_xticklabels(labels)\n",
    "ax.legend()\n",
    "fig.tight_layout()\n",
    "plt.show()"
   ]
  },
  {
   "cell_type": "markdown",
   "metadata": {},
   "source": [
    "#### Question 2 (5 points)"
   ]
  },
  {
   "cell_type": "markdown",
   "metadata": {},
   "source": [
    "a. Perform PCA on the three datasets ('dataset1.csv', 'dataset2.csv', 'dataset3.csv'), and only keep the first 2 principal components."
   ]
  },
  {
   "cell_type": "code",
   "execution_count": 36,
   "metadata": {},
   "outputs": [
    {
     "data": {
      "text/html": [
       "<div>\n",
       "<style scoped>\n",
       "    .dataframe tbody tr th:only-of-type {\n",
       "        vertical-align: middle;\n",
       "    }\n",
       "\n",
       "    .dataframe tbody tr th {\n",
       "        vertical-align: top;\n",
       "    }\n",
       "\n",
       "    .dataframe thead th {\n",
       "        text-align: right;\n",
       "    }\n",
       "</style>\n",
       "<table border=\"1\" class=\"dataframe\">\n",
       "  <thead>\n",
       "    <tr style=\"text-align: right;\">\n",
       "      <th></th>\n",
       "      <th>X1</th>\n",
       "      <th>X2</th>\n",
       "      <th>X3</th>\n",
       "      <th>X4</th>\n",
       "      <th>X5</th>\n",
       "      <th>y</th>\n",
       "    </tr>\n",
       "  </thead>\n",
       "  <tbody>\n",
       "    <tr>\n",
       "      <th>0</th>\n",
       "      <td>-0.382891</td>\n",
       "      <td>-0.090840</td>\n",
       "      <td>-0.175243</td>\n",
       "      <td>-0.055083</td>\n",
       "      <td>-0.250314</td>\n",
       "      <td>1.0</td>\n",
       "    </tr>\n",
       "    <tr>\n",
       "      <th>1</th>\n",
       "      <td>-0.020962</td>\n",
       "      <td>-0.477874</td>\n",
       "      <td>0.395574</td>\n",
       "      <td>0.022171</td>\n",
       "      <td>0.069599</td>\n",
       "      <td>1.0</td>\n",
       "    </tr>\n",
       "    <tr>\n",
       "      <th>2</th>\n",
       "      <td>-0.396116</td>\n",
       "      <td>-1.289427</td>\n",
       "      <td>-0.209233</td>\n",
       "      <td>-0.595757</td>\n",
       "      <td>0.095190</td>\n",
       "      <td>0.0</td>\n",
       "    </tr>\n",
       "    <tr>\n",
       "      <th>3</th>\n",
       "      <td>-0.618130</td>\n",
       "      <td>-0.063837</td>\n",
       "      <td>0.027294</td>\n",
       "      <td>0.278750</td>\n",
       "      <td>-0.542407</td>\n",
       "      <td>1.0</td>\n",
       "    </tr>\n",
       "    <tr>\n",
       "      <th>4</th>\n",
       "      <td>0.703478</td>\n",
       "      <td>-0.187038</td>\n",
       "      <td>0.610635</td>\n",
       "      <td>-0.154152</td>\n",
       "      <td>0.249347</td>\n",
       "      <td>1.0</td>\n",
       "    </tr>\n",
       "  </tbody>\n",
       "</table>\n",
       "</div>"
      ],
      "text/plain": [
       "         X1        X2        X3        X4        X5    y\n",
       "0 -0.382891 -0.090840 -0.175243 -0.055083 -0.250314  1.0\n",
       "1 -0.020962 -0.477874  0.395574  0.022171  0.069599  1.0\n",
       "2 -0.396116 -1.289427 -0.209233 -0.595757  0.095190  0.0\n",
       "3 -0.618130 -0.063837  0.027294  0.278750 -0.542407  1.0\n",
       "4  0.703478 -0.187038  0.610635 -0.154152  0.249347  1.0"
      ]
     },
     "execution_count": 36,
     "metadata": {},
     "output_type": "execute_result"
    }
   ],
   "source": [
    "dataset1.head()"
   ]
  },
  {
   "cell_type": "code",
   "execution_count": 54,
   "metadata": {},
   "outputs": [],
   "source": [
    "# Your code goes here\n",
    "from sklearn.decomposition import PCA\n",
    "\n",
    "pca1 = PCA(n_components=2)\n",
    "pca2 = PCA(n_components=2)\n",
    "pca3 = PCA(n_components=2)\n",
    "\n",
    "pca1.fit(X1)\n",
    "pca2.fit(X2)\n",
    "pca3.fit(X3)\n",
    "\n",
    "X1_pca = pca1.transform(X1)\n",
    "X2_pca = pca2.transform(X2)\n",
    "X3_pca = pca1.transform(X3)"
   ]
  },
  {
   "cell_type": "markdown",
   "metadata": {},
   "source": [
    "b. Train the classifiers defined in 1a to classify on the PCA transformed data from 2a. Perform train-test-split and compute the AUC on the test sets. "
   ]
  },
  {
   "cell_type": "code",
   "execution_count": 61,
   "metadata": {},
   "outputs": [],
   "source": [
    "# Your code goes here\n",
    "X_train_1p, X_test_1p, y_train_1p, y_test_1p = train_test_split(X1_pca, y1, test_size=0.3, random_state=42)\n",
    "X_train_2p, X_test_2p, y_train_2p, y_test_2p = train_test_split(X2_pca, y2, test_size=0.3, random_state=42)\n",
    "X_train_3p, X_test_3p, y_train_3p, y_test_3p = train_test_split(X3_pca, y3, test_size=0.3, random_state=42)"
   ]
  },
  {
   "cell_type": "code",
   "execution_count": 63,
   "metadata": {},
   "outputs": [],
   "source": [
    "data1_p = [X_train_1p, X_test_1p, y_train_1p, y_test_1p]\n",
    "data2_p = [X_train_2p, X_test_2p, y_train_2p, y_test_2p]\n",
    "data3_p = [X_train_3p, X_test_3p, y_train_3p, y_test_3p]\n",
    "data_p = [data1_p, data2_p, data3_p]\n",
    "\n",
    "aucs_pca = []\n",
    "for dataset in data_p:\n",
    "    aucs_per_dataset_pca = []\n",
    "    X_train = dataset[0]\n",
    "    X_test = dataset[1]\n",
    "    y_train = dataset[2]\n",
    "    y_test = dataset[3]\n",
    "    for name in clfs:\n",
    "        clf = clfs.get(name)\n",
    "        clf.fit(X_train, y_train)\n",
    "        y_pred = clf.predict(X_test)\n",
    "        fpr, tpr, threshold = metrics.roc_curve(y_test, y_pred)\n",
    "        aucs_per_dataset_pca.append(metrics.auc(fpr, tpr))\n",
    "    aucs_pca.append(aucs_per_dataset_pca)"
   ]
  },
  {
   "cell_type": "code",
   "execution_count": 64,
   "metadata": {},
   "outputs": [
    {
     "data": {
      "text/plain": [
       "[[0.925, 0.5, 0.875, 0.875, 0.8500000000000001, 0.875, 0.8, 0.5],\n",
       " [0.925, 0.5, 0.875, 0.875, 0.875, 0.875, 0.8, 0.5],\n",
       " [0.925, 0.5, 0.875, 0.925, 0.85, 0.875, 0.8, 0.5]]"
      ]
     },
     "execution_count": 64,
     "metadata": {},
     "output_type": "execute_result"
    }
   ],
   "source": [
    "aucs_pca"
   ]
  },
  {
   "cell_type": "markdown",
   "metadata": {},
   "source": [
    "c. Use a bar plot to visualize the results you get from 2b. The x-axis should be the three datasets. The y-axis should be the AUC. The color for the bars should be the different algorithms."
   ]
  },
  {
   "cell_type": "code",
   "execution_count": 67,
   "metadata": {},
   "outputs": [
    {
     "data": {
      "image/png": "[encoded data removed]",
      "text/plain": [
       "<Figure size 432x288 with 1 Axes>"
      ]
     },
     "metadata": {},
     "output_type": "display_data"
    }
   ],
   "source": [
    "# Your code goes here\n",
    "labels_p = ['dataset1', 'dataset2', 'dataset3']\n",
    "\n",
    "K_nearest_p = [aucs_pca[0][0], aucs_pca[1][0], aucs_pca[2][0]]\n",
    "Linear_SVM_p = [aucs_pca[0][1], aucs_pca[1][1], aucs_pca[2][1]]\n",
    "RBF_SVM_p = [aucs_pca[0][2], aucs_pca[1][2], aucs_pca[2][2]]\n",
    "Decision_Tree_p = [aucs_pca[0][3], aucs_pca[1][3], aucs_pca[2][3]]\n",
    "Random_Forest_p = [aucs_pca[0][4], aucs_pca[1][4], aucs_pca[2][4]]\n",
    "AdaBoost_p = [aucs_pca[0][5], aucs_pca[1][5], aucs_pca[2][5]]\n",
    "Naive_Bayes_p = [aucs_pca[0][6], aucs_pca[1][6], aucs_pca[2][6]]\n",
    "LDA_p = [aucs_pca[0][7], aucs_pca[1][7], aucs_pca[2][7]]\n",
    "\n",
    "x = np.arange(len(labels_p))\n",
    "width = 0.35\n",
    "\n",
    "fig, ax = plt.subplots()\n",
    "\n",
    "rects1 = ax.bar(x - width/2, K_nearest_p, width, label='Nearest Neighbors')\n",
    "rects2 = ax.bar(x + width/2, Linear_SVM_p, width, label='Linear SVM')\n",
    "rects3 = ax.bar(x + width/2, RBF_SVM_p, width, label='RBF SVM')\n",
    "rects4 = ax.bar(x + width/2, Decision_Tree_p, width, label='Decision Tree')\n",
    "rects5 = ax.bar(x + width/2, Random_Forest_p, width, label='Random Forest')\n",
    "rects6 = ax.bar(x + width/2, Random_Forest_p, width, label='Random Forest')\n",
    "rects7 = ax.bar(x + width/2, AdaBoost_p, width, label='AdaBoost')\n",
    "rects8 = ax.bar(x + width/2, Naive_Bayes_p, width, label='Naive Bayes')\n",
    "rects9 = ax.bar(x + width/2, LDA_p, width, label='LDA')\n",
    "\n",
    "ax.set_ylabel('AUC')\n",
    "ax.set_title('AUC by dataset and classification method after PCA')\n",
    "ax.set_xticks(x)\n",
    "ax.set_xticklabels(labels)\n",
    "ax.legend()\n",
    "fig.tight_layout()\n",
    "plt.show()"
   ]
  },
  {
   "cell_type": "markdown",
   "metadata": {},
   "source": [
    "d. Use the plotting function below to visualize the decision boundary of each algorithms on each dataset. The function takes 3 inputs, clf, the classifier object, X, a two-dimensional numpy array, and y, a one-dimensional numpy array."
   ]
  },
  {
   "cell_type": "code",
   "execution_count": 68,
   "metadata": {},
   "outputs": [],
   "source": [
    "def plot_decision_boundary(clf, X, y): \n",
    "    cm = plt.cm.RdBu\n",
    "    cm_bright = ListedColormap(['#FF0000', '#0000FF'])\n",
    "    # Set up plotting mesh\n",
    "    # Step size of the mesh\n",
    "    h = .02 \n",
    "    x_min, x_max = X[:, 0].min() - .5, X[:, 0].max() + .5\n",
    "    y_min, y_max = X[:, 1].min() - .5, X[:, 1].max() + .5\n",
    "    xx, yy = np.meshgrid(np.arange(x_min, x_max, h),\n",
    "                         np.arange(y_min, y_max, h))\n",
    "    \n",
    "    # Perform classification\n",
    "    X_train, X_test, y_train, y_test = \\\n",
    "    train_test_split(X, y, test_size=.4, random_state=42)\n",
    "    clf.fit(X_train, y_train)\n",
    "    score = clf.score(X_test, y_test)\n",
    "    # Plot the decision boundary. For that, we will assign a color to each\n",
    "\n",
    "    # point in the mesh [x_min, x_max]x[y_min, y_max].\n",
    "    if hasattr(clf, \"decision_function\"):\n",
    "        Z = clf.decision_function(np.c_[xx.ravel(), yy.ravel()])\n",
    "    else:\n",
    "        Z = clf.predict_proba(np.c_[xx.ravel(), yy.ravel()])[:, 1]\n",
    "\n",
    "    # Put the result into a color plot\n",
    "    Z = Z.reshape(xx.shape)\n",
    "    plt.contourf(xx, yy, Z, cmap=cm, alpha=.8)\n",
    "\n",
    "    # Plot the training points\n",
    "    plt.scatter(X_train[:, 0], X_train[:, 1], c=y_train, cmap=cm_bright,\n",
    "               edgecolors='k')\n",
    "    # Plot the testing points\n",
    "    plt.scatter(X_test[:, 0], X_test[:, 1], c=y_test, cmap=cm_bright,\n",
    "               edgecolors='k', alpha=0.6)"
   ]
  },
  {
   "cell_type": "code",
   "execution_count": 69,
   "metadata": {},
   "outputs": [
    {
     "data": {
      "image/png": "[encoded data removed]",
      "text/plain": [
       "<Figure size 432x288 with 1 Axes>"
      ]
     },
     "metadata": {},
     "output_type": "display_data"
    }
   ],
   "source": [
    "for dataset in data_p:\n",
    "    aucs_per_dataset_pca = []\n",
    "    X_train = dataset[0]\n",
    "    y_train = dataset[2]\n",
    "    for name in clfs:\n",
    "        clf = clfs.get(name)\n",
    "        plot_decision_boundary(clf, X_train, y_train)"
   ]
  }
 ],
 "metadata": {
  "kernelspec": {
   "display_name": "Python 3",
   "language": "python",
   "name": "python3"
  },
  "language_info": {
   "codemirror_mode": {
    "name": "ipython",
    "version": 3
   },
   "file_extension": ".py",
   "mimetype": "text/x-python",
   "name": "python",
   "nbconvert_exporter": "python",
   "pygments_lexer": "ipython3",
   "version": "3.6.8"
  }
 },
 "nbformat": 4,
 "nbformat_minor": 2
}
